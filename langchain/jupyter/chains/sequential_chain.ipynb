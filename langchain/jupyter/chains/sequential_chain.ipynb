{
 "cells": [
  {
   "cell_type": "markdown",
   "id": "c3e2458f-d038-4845-93a0-d4ad830f9f90",
   "metadata": {
    "pycharm": {
     "name": "#%% md\n"
    }
   },
   "source": [
    "# LangChain 核心模块学习：Chains\n",
    "\n",
    "对于简单的大模型应用，单独使用语言模型（LLMs）是可以的。\n",
    "\n",
    "**但更复杂的大模型应用需要将 `LLMs` 和 `Chat Models` 链接在一起 - 要么彼此链接，要么与其他组件链接。**\n",
    "\n",
    "LangChain 为这种“链式”应用程序提供了 `Chain` 接口。\n",
    "\n",
    "LangChain 以通用方式定义了 `Chain`，它是对组件进行调用序列的集合，其中可以包含其他链。"
   ]
  },
  {
   "cell_type": "markdown",
   "id": "f9cf0d43-107b-47ae-9e2c-2edaec38c800",
   "metadata": {
    "pycharm": {
     "name": "#%% md\n"
    }
   },
   "source": [
    "## Chain Class 基类\n",
    "\n",
    "类继承关系：\n",
    "\n",
    "```\n",
    "Chain --> <name>Chain  # Examples: LLMChain, MapReduceChain, RouterChain\n",
    "```\n",
    "\n",
    "**代码实现：https://github.com/langchain-ai/langchain/blob/master/libs/langchain/langchain/chains/base.py**\n",
    "\n",
    "```python\n",
    "# 定义一个名为Chain的基础类\n",
    "class Chain(Serializable, Runnable[Dict[str, Any], Dict[str, Any]], ABC):\n",
    "    \"\"\"为创建结构化的组件调用序列的抽象基类。\n",
    "\n",
    "    链应该用来编码对组件的一系列调用，如模型、文档检索器、其他链等，并为此序列提供一个简单的接口。\n",
    "\n",
    "    Chain接口使创建应用程序变得容易，这些应用程序是：\n",
    "    - 有状态的：给任何Chain添加Memory可以使它具有状态，\n",
    "    - 可观察的：向Chain传递Callbacks来执行额外的功能，如记录，这在主要的组件调用序列之外，\n",
    "    - 可组合的：Chain API足够灵活，可以轻松地将Chains与其他组件结合起来，包括其他Chains。\n",
    "\n",
    "    链公开的主要方法是：\n",
    "    - `__call__`：链是可以调用的。`__call__`方法是执行Chain的主要方式。它将输入作为一个字典接收，并返回一个字典输出。\n",
    "    - `run`：一个方便的方法，它以args/kwargs的形式接收输入，并将输出作为字符串或对象返回。这种方法只能用于一部分链，不能像`__call__`那样返回丰富的输出。\n",
    "    \"\"\"\n",
    "\n",
    "    # 调用链\n",
    "    def invoke(\n",
    "        self, input: Dict[str, Any], config: Optional[runnableConfig] = None\n",
    "    ) -> Dict[str, Any]:\n",
    "        \"\"\"传统调用方法。\"\"\"\n",
    "        return self(input, **(config or {}))\n",
    "\n",
    "    # 链的记忆，保存状态和变量\n",
    "    memory: Optional[BaseMemory] = None\n",
    "    \"\"\"可选的内存对象，默认为None。\n",
    "    内存是一个在每个链的开始和结束时被调用的类。在开始时，内存加载变量并在链中传递它们。在结束时，它保存任何返回的变量。\n",
    "    有许多不同类型的内存，请查看内存文档以获取完整的目录。\"\"\"\n",
    "\n",
    "    # 回调，可能用于链的某些操作或事件。\n",
    "    callbacks: Callbacks = Field(default=None, exclude=True)\n",
    "    \"\"\"可选的回调处理程序列表（或回调管理器）。默认为None。\n",
    "    在对链的调用的生命周期中，从on_chain_start开始，到on_chain_end或on_chain_error结束，都会调用回调处理程序。\n",
    "    每个自定义链可以选择调用额外的回调方法，详细信息请参见Callback文档。\"\"\"\n",
    "\n",
    "    # 是否详细输出模式\n",
    "    verbose: bool = Field(default_factory=_get_verbosity)\n",
    "    \"\"\"是否以详细模式运行。在详细模式下，一些中间日志将打印到控制台。默认值为`langchain.verbose`。\"\"\"\n",
    "\n",
    "    # 与链关联的标签\n",
    "    tags: Optional[List[str]] = None\n",
    "    \"\"\"与链关联的可选标签列表，默认为None。\n",
    "    这些标签将与对这个链的每次调用关联起来，并作为参数传递给在`callbacks`中定义的处理程序。\n",
    "    你可以使用这些来例如识别链的特定实例与其用例。\"\"\"\n",
    "\n",
    "    # 与链关联的元数据\n",
    "    metadata: Optional[Dict[str, Any]] = None\n",
    "    \"\"\"与链关联的可选元数据，默认为None。\n",
    "    这些元数据将与对这个链的每次调用关联起来，并作为参数传递给在`callbacks`中定义的处理程序。\n",
    "    你可以使用这些来例如识别链的特定实例与其用例。\"\"\"\n",
    "```"
   ]
  },
  {
   "cell_type": "code",
   "execution_count": null,
   "id": "5d51fbb4-1d8e-4ec1-8c55-ec70247d4d64",
   "metadata": {
    "pycharm": {
     "name": "#%%\n"
    }
   },
   "outputs": [],
   "source": []
  },
  {
   "cell_type": "markdown",
   "id": "c81a7df0-26c7-4eb8-92f1-cc54445cf507",
   "metadata": {
    "pycharm": {
     "name": "#%% md\n"
    }
   },
   "source": [
    "## LLMChain\n",
    "\n",
    "LLMChain 是 LangChain 中最简单的链，作为其他复杂 Chains 和 Agents 的内部调用，被广泛应用。\n",
    "\n",
    "一个LLMChain由PromptTemplate和语言模型（LLM or Chat Model）组成。它使用直接传入（或 memory 提供）的 key-value 来规范化生成 Prompt Template（提示模板），并将生成的 prompt （格式化后的字符串）传递给大模型，并返回大模型输出。\n",
    "\n",
    "![](../images/llm_chain.png)"
   ]
  },
  {
   "cell_type": "code",
   "execution_count": 12,
   "id": "757a67a6-c1aa-4dde-94ef-fb9865dc634c",
   "metadata": {
    "pycharm": {
     "name": "#%%\n"
    }
   },
   "outputs": [],
   "source": [
    "from langchain_openai import OpenAI\n",
    "from langchain.prompts import PromptTemplate\n",
    "\n",
    "llm = OpenAI(model_name=\"gpt-3.5-turbo-instruct\", temperature=0.9, max_tokens=500)"
   ]
  },
  {
   "cell_type": "code",
   "execution_count": 13,
   "id": "0b863511-ee01-43e8-8540-4e3f109a5a1a",
   "metadata": {
    "pycharm": {
     "name": "#%%\n"
    }
   },
   "outputs": [],
   "source": [
    "prompt = PromptTemplate(\n",
    "    input_variables=[\"product\"],\n",
    "    template=\"给制造{product}的有限公司取10个好名字，并给出完整的公司名称\",\n",
    ")"
   ]
  },
  {
   "cell_type": "code",
   "execution_count": 14,
   "id": "b877560c-cb66-41ad-b484-b2df2a60a00d",
   "metadata": {
    "pycharm": {
     "name": "#%%\n"
    }
   },
   "outputs": [
    {
     "name": "stdout",
     "output_type": "stream",
     "text": [
      "\n",
      "\n",
      "\n",
      "1. 光速科技（LightSpeed Technology Co.,Ltd）\n",
      "2. 火箭显卡（Rocket Graphics Co.,Ltd）\n",
      "3. 极限视界（Limitless Vision Co.,Ltd）\n",
      "4. 天马行空（Celestial Computing Co.,Ltd）\n",
      "5. 弹丸图形（Bullet Graphics Co.,Ltd）\n",
      "6. 神威计算（Divine Computing Co.,Ltd）\n",
      "7. 超越科技（Surpassing Technology Co.,Ltd）\n",
      "8. 雷霆显卡（Thunder Graphics Co.,Ltd）\n",
      "9. 精英加速（Elite Acceleration Co.,Ltd）\n",
      "10. 无限创想（Infinite Creativity Co.,Ltd）\n"
     ]
    }
   ],
   "source": [
    "from langchain.chains import LLMChain\n",
    "\n",
    "chain = LLMChain(llm=llm, prompt=prompt)\n",
    "print(chain.run({\n",
    "    'product': \"性能卓越的GPU\"\n",
    "    }))"
   ]
  },
  {
   "cell_type": "code",
   "execution_count": 4,
   "id": "727ccd76-0c6a-425b-bfc7-23d368c296f0",
   "metadata": {
    "pycharm": {
     "name": "#%%\n"
    }
   },
   "outputs": [],
   "source": [
    "chain.verbose = True"
   ]
  },
  {
   "cell_type": "code",
   "execution_count": 5,
   "id": "1766e01a-c5c4-4a74-9ebb-ecfc84101ba2",
   "metadata": {
    "pycharm": {
     "name": "#%%\n"
    }
   },
   "outputs": [
    {
     "data": {
      "text/plain": "True"
     },
     "execution_count": 5,
     "metadata": {},
     "output_type": "execute_result"
    }
   ],
   "source": [
    "chain.verbose"
   ]
  },
  {
   "cell_type": "code",
   "execution_count": 6,
   "id": "cfa71d7c-2859-47e1-9815-4be2ec9dbd74",
   "metadata": {
    "pycharm": {
     "name": "#%%\n"
    }
   },
   "outputs": [
    {
     "name": "stdout",
     "output_type": "stream",
     "text": [
      "\n",
      "\n",
      "\u001B[1m> Entering new LLMChain chain...\u001B[0m\n",
      "Prompt after formatting:\n",
      "\u001B[32;1m\u001B[1;3m给制造性能卓越的GPU的有限公司取10个好名字，并给出完整的公司名称\u001B[0m\n",
      "\n",
      "\u001B[1m> Finished chain.\u001B[0m\n",
      "\n",
      "\n",
      "1. 创新科技股份有限公司\n",
      "2. 强势图形技术有限公司\n",
      "3. 超视觉半导体有限公司\n",
      "4. 光电视界有限公司\n",
      "5. 典范图像处理有限公司\n",
      "6. 逸杰计算机图形有限公司\n",
      "7. 元良电脑图形有限公司\n",
      "8. 集实数字图形有限公司\n",
      "9. 久通计算机图形有限公司\n",
      "10. 昱轩图像技术有限公司\n"
     ]
    }
   ],
   "source": [
    "print(chain.run({\n",
    "    'product': \"性能卓越的GPU\"\n",
    "    }))"
   ]
  },
  {
   "cell_type": "code",
   "execution_count": null,
   "id": "ac5411e7-b8ec-4c31-b659-deb44af038df",
   "metadata": {
    "pycharm": {
     "name": "#%%\n"
    }
   },
   "outputs": [],
   "source": []
  },
  {
   "cell_type": "markdown",
   "id": "99cbf75e-98f4-4c99-b8a7-9a48cc28c7bc",
   "metadata": {
    "pycharm": {
     "name": "#%% md\n"
    }
   },
   "source": [
    "## Sequential Chain\n",
    "\n",
    "串联式调用语言模型（将一个调用的输出作为另一个调用的输入）。\n",
    "\n",
    "顺序链（Sequential Chain ）允许用户连接多个链并将它们组合成执行特定场景的流水线（Pipeline）。有两种类型的顺序链：\n",
    "\n",
    "- SimpleSequentialChain：最简单形式的顺序链，每个步骤都具有单一输入/输出，并且一个步骤的输出是下一个步骤的输入。\n",
    "- SequentialChain：更通用形式的顺序链，允许多个输入/输出。"
   ]
  },
  {
   "cell_type": "markdown",
   "id": "8e192c8c-49fc-4d04-8444-e6aa6bd7b725",
   "metadata": {
    "pycharm": {
     "name": "#%% md\n"
    }
   },
   "source": [
    "### 使用 SimpleSequentialChain 实现戏剧摘要和评论（单输入/单输出）\n",
    "\n",
    "![](../images/simple_sequential_chain_0.png)"
   ]
  },
  {
   "cell_type": "code",
   "execution_count": 7,
   "id": "a4d192a2-d563-4ab7-979f-640fa34f1914",
   "metadata": {
    "pycharm": {
     "name": "#%%\n"
    }
   },
   "outputs": [],
   "source": [
    "# 这是一个 LLMChain，用于根据剧目的标题撰写简介。\n",
    "\n",
    "llm = OpenAI(temperature=0.7, max_tokens=1000)\n",
    "\n",
    "template = \"\"\"你是一位剧作家。根据戏剧的标题，你的任务是为该标题写一个简介。\n",
    "\n",
    "标题：{title}\n",
    "剧作家：以下是对上述戏剧的简介：\"\"\"\n",
    "\n",
    "prompt_template = PromptTemplate(input_variables=[\"title\"], template=template)\n",
    "synopsis_chain = LLMChain(llm=llm, prompt=prompt_template)"
   ]
  },
  {
   "cell_type": "code",
   "execution_count": 8,
   "id": "3f7d429b-7ba7-4643-bd9f-fdb737ebf964",
   "metadata": {
    "pycharm": {
     "name": "#%%\n"
    }
   },
   "outputs": [],
   "source": [
    "# 这是一个LLMChain，用于根据剧情简介撰写一篇戏剧评论。\n",
    "# llm = OpenAI(temperature=0.7, max_tokens=1000)\n",
    "template = \"\"\"你是《纽约时报》的戏剧评论家。根据剧情简介，你的工作是为该剧撰写一篇评论。\n",
    "\n",
    "剧情简介：\n",
    "{synopsis}\n",
    "\n",
    "以下是来自《纽约时报》戏剧评论家对上述剧目的评论：\"\"\"\n",
    "\n",
    "prompt_template = PromptTemplate(input_variables=[\"synopsis\"], template=template)\n",
    "review_chain = LLMChain(llm=llm, prompt=prompt_template)"
   ]
  },
  {
   "cell_type": "markdown",
   "id": "a5265129-5ccd-4e29-b221-0ec24eb84c2b",
   "metadata": {
    "pycharm": {
     "name": "#%% md\n"
    }
   },
   "source": [
    "![](../images/simple_sequential_chain_1.png)"
   ]
  },
  {
   "cell_type": "code",
   "execution_count": 9,
   "id": "de4d816e-16e1-4382-9064-6c03e5841ea2",
   "metadata": {
    "pycharm": {
     "name": "#%%\n"
    }
   },
   "outputs": [],
   "source": [
    "# 这是一个SimpleSequentialChain，按顺序运行这两个链\n",
    "from langchain.chains import SimpleSequentialChain\n",
    "\n",
    "overall_chain = SimpleSequentialChain(chains=[synopsis_chain, review_chain], verbose=True)"
   ]
  },
  {
   "cell_type": "code",
   "execution_count": 10,
   "id": "d503ac4f-e337-4436-86a1-7fd937efb06a",
   "metadata": {
    "pycharm": {
     "name": "#%%\n"
    }
   },
   "outputs": [
    {
     "name": "stdout",
     "output_type": "stream",
     "text": [
      "\n",
      "\n",
      "\u001B[1m> Entering new SimpleSequentialChain chain...\u001B[0m\n",
      "\u001B[36;1m\u001B[1;3m\n",
      "《三体人不是无法战胜的》是一部关于人类与外星种族之间的激烈对抗的戏剧。故事发生在未来的地球，随着科技的进步，人类与三体人这一外星种族之间的联系日渐增多。然而，三体人并非像人类所想象的那样无法战胜，他们拥有强大的科技实力和超乎想象的智慧。在与三体人的不断交锋中，人类面临着前所未有的挑战和危机。但是，主人公们并没有放弃，他们发挥出人类的智慧和勇气，与三体人展开了一场殊死搏斗。在这场生死之战中，人类是否能够战胜自己的惧怕和不断进化的敌人？最终，谁能够成为最终的胜利者？《三体人不是无法战胜的》将为观众带来一场惊险刺激的战斗，同时也探讨了人类的勇气和智慧面对未知挑战的力量。\u001B[0m\n",
      "\u001B[33;1m\u001B[1;3m \n",
      "\n",
      "《三体人不是无法战胜的》是一部充满惊险和刺激的戏剧作品，它将观众带入了一个科幻世界，探讨了人类与外星种族之间的激烈对抗。\n",
      "\n",
      "故事发生在未来的地球，随着科技的进步，人类与三体人之间的联系日渐增多。然而，三体人并非像人类所想象的那样无法战胜，他们拥有强大的科技实力和超乎想象的智慧。这一点也体现在剧中，三体人不断利用他们的科技优势与人类展开激烈的对抗，让人类陷入了前所未有的挑战和危机之中。\n",
      "\n",
      "但是，主人公们并没有因此而放弃，他们发挥出人类的智慧和勇气，与三体人展开了一场殊死搏斗。在这场生死之战中，人类不仅仅是在与一个外星种族的战斗，更是在与自己的惧怕和不断进化的敌人作战。剧中充满了紧张刺激的场面，让观众仿佛置身于战场之中，能够感受到主人公们的勇气和决心。\n",
      "\n",
      "除了惊险刺激的战斗场面，该剧也探讨了人类面对未知挑战时的力量。主人公们不断面对困难和挑战，但是他们从未放弃，而是用智慧和勇气克服了一切。这也是人类一直以来的精神，无论面对怎样的困难，我们都会勇敢地迎接挑战并最终取得胜利。\n",
      "\n",
      "总的来说，《三体人不是无法战胜的》是一部精彩的戏剧作品，它不仅带来了惊险刺激的战斗场面，更让我们思考人类的勇气和智慧面对未知挑战的力量。这部剧将给观众带来一场难忘的观剧体验，让我们一起为主人公们的勇气和决心欢呼！\u001B[0m\n",
      "\n",
      "\u001B[1m> Finished chain.\u001B[0m\n"
     ]
    }
   ],
   "source": [
    "review = overall_chain.run(\"三体人不是无法战胜的\")"
   ]
  },
  {
   "cell_type": "code",
   "execution_count": 11,
   "id": "ce4d75e1-8c57-4583-be7d-60a3488e35b5",
   "metadata": {
    "pycharm": {
     "name": "#%%\n"
    }
   },
   "outputs": [
    {
     "name": "stdout",
     "output_type": "stream",
     "text": [
      "\n",
      "\n",
      "\u001B[1m> Entering new SimpleSequentialChain chain...\u001B[0m\n",
      "\u001B[36;1m\u001B[1;3m\n",
      "\n",
      "《星球大战第九季》是一部充满惊险刺激的科幻戏剧，它延续了经典系列的传奇故事。在这一季中，我们将见证新一代的英雄们挑战邪恶势力的勇气和智慧。随着军阀和反抗军的激烈战斗，我们将看到新的联盟形成，旧的敌人和朋友之间的纠葛也将达到高潮。同时，神秘的力量将再次出现，为战争增添更多的变数。在这场宏大的冒险中，我们将见证爱、友情、背叛和牺牲的力量如何影响我们的英雄们，最终决定他们的命运。《星球大战第九季》将带领观众穿越宇宙，探索力量与黑暗的较量，以及人性的光与影。这将是一场前所未有的精彩旅程，不容错过。\u001B[0m\n",
      "\u001B[33;1m\u001B[1;3m\n",
      "\n",
      "《星球大战第九季》是一部令人惊叹的科幻戏剧，它不仅延续了经典系列的传奇故事，更展现了新一代英雄们的勇气和智慧。导演们成功地将宏大的宇宙背景与细腻的人性冲突融合在一起，为观众呈现了一场前所未有的精彩旅程。\n",
      "\n",
      "在本季中，军阀和反抗军的激烈战斗令人目不转睛，不仅有惊险刺激的动作场面，更有英雄们面对自我和命运的挑战。同时，新的联盟的形成也为剧情增添了更多的戏剧性。旧的敌人和朋友之间的复杂关系也将达到高潮，为故事增添了更多的张力。\n",
      "\n",
      "除了精彩的战斗场面，观众还将在《星球大战第九季》中看到爱、友情、背叛和牺牲这些人性的光与影。这些情感的表现令人动容，也让观众更加投入剧情，与英雄们一起经历他们的挑战和成长。\n",
      "\n",
      "最令人期待的是，神秘的力量再次出现，为故事增添更多的变数。这将是一场力量与黑暗的较量，也将成为故事的关键点，令观众充满期待。\n",
      "\n",
      "总的来说，《星球大战第九季》是一部不容错过的戏剧，它将带领观众穿越宇宙，探索力量与黑暗的较量，以及人性的光与影。导演们成功地将科幻元素与情感冲突融合在一起，为观众呈现了一场令人惊叹的冒险。不论您是《星球大战》的忠实粉丝，还是喜欢惊险刺激的戏剧，都不应错过这部精彩的作品。\u001B[0m\n",
      "\n",
      "\u001B[1m> Finished chain.\u001B[0m\n"
     ]
    }
   ],
   "source": [
    "review = overall_chain.run(\"星球大战第九季\")"
   ]
  },
  {
   "cell_type": "markdown",
   "id": "5fe32f1d-475d-4211-9b32-0c66dd8bff01",
   "metadata": {
    "pycharm": {
     "name": "#%% md\n"
    }
   },
   "source": [
    "### 使用 SequentialChain 实现戏剧摘要和评论（多输入/多输出）\n",
    "\n",
    "![](../images/sequential_chain_0.png)"
   ]
  },
  {
   "cell_type": "code",
   "execution_count": 12,
   "id": "2a04d84f-15c6-4a8d-a4db-200dfa405afa",
   "metadata": {
    "pycharm": {
     "name": "#%%\n"
    }
   },
   "outputs": [],
   "source": [
    "# # 这是一个 LLMChain，根据剧名和设定的时代来撰写剧情简介。\n",
    "llm = OpenAI(temperature=.7, max_tokens=1000)\n",
    "template = \"\"\"你是一位剧作家。根据戏剧的标题和设定的时代，你的任务是为该标题写一个简介。\n",
    "\n",
    "标题：{title}\n",
    "时代：{era}\n",
    "剧作家：以下是对上述戏剧的简介：\"\"\"\n",
    "\n",
    "prompt_template = PromptTemplate(input_variables=[\"title\", \"era\"], template=template)\n",
    "# output_key\n",
    "synopsis_chain = LLMChain(llm=llm, prompt=prompt_template, output_key=\"synopsis\", verbose=True)"
   ]
  },
  {
   "cell_type": "code",
   "execution_count": 13,
   "id": "250afe66-e014-4097-9798-f9ba812023fd",
   "metadata": {
    "pycharm": {
     "name": "#%%\n"
    }
   },
   "outputs": [],
   "source": [
    "# 这是一个LLMChain，用于根据剧情简介撰写一篇戏剧评论。\n",
    "\n",
    "template = \"\"\"你是《纽约时报》的戏剧评论家。根据该剧的剧情简介，你需要撰写一篇关于该剧的评论。\n",
    "\n",
    "剧情简介：\n",
    "{synopsis}\n",
    "\n",
    "来自《纽约时报》戏剧评论家对上述剧目的评价：\"\"\"\n",
    "\n",
    "prompt_template = PromptTemplate(input_variables=[\"synopsis\"], template=template)\n",
    "review_chain = LLMChain(llm=llm, prompt=prompt_template, output_key=\"review\", verbose=True)"
   ]
  },
  {
   "cell_type": "code",
   "execution_count": 14,
   "id": "9eb46f6d-841b-4b87-9ed5-a5913ef9aec5",
   "metadata": {
    "pycharm": {
     "name": "#%%\n"
    }
   },
   "outputs": [],
   "source": [
    "from langchain.chains import SequentialChain\n",
    "\n",
    "m_overall_chain = SequentialChain(\n",
    "    chains=[synopsis_chain, review_chain],\n",
    "    input_variables=[\"era\", \"title\"],\n",
    "    # Here we return multiple variables\n",
    "    output_variables=[\"synopsis\", \"review\"],\n",
    "    verbose=True)"
   ]
  },
  {
   "cell_type": "code",
   "execution_count": 15,
   "id": "5a4a12ef-da2a-42ad-8044-fb71aedd3e2d",
   "metadata": {
    "pycharm": {
     "name": "#%%\n"
    }
   },
   "outputs": [
    {
     "name": "stdout",
     "output_type": "stream",
     "text": [
      "\n",
      "\n",
      "\u001B[1m> Entering new SequentialChain chain...\u001B[0m\n",
      "\n",
      "\n",
      "\u001B[1m> Entering new LLMChain chain...\u001B[0m\n",
      "Prompt after formatting:\n",
      "\u001B[32;1m\u001B[1;3m你是一位剧作家。根据戏剧的标题和设定的时代，你的任务是为该标题写一个简介。\n",
      "\n",
      "标题：三体人不是无法战胜的\n",
      "时代：二十一世纪的新中国\n",
      "剧作家：以下是对上述戏剧的简介：\u001B[0m\n"
     ]
    },
    {
     "name": "stderr",
     "output_type": "stream",
     "text": [
      "/home/ubuntu/miniconda3/envs/langchain/lib/python3.10/site-packages/langchain_core/_api/deprecation.py:117: LangChainDeprecationWarning: The function `__call__` was deprecated in LangChain 0.1.0 and will be removed in 0.2.0. Use invoke instead.\n",
      "  warn_deprecated(\n"
     ]
    },
    {
     "name": "stdout",
     "output_type": "stream",
     "text": [
      "\n",
      "\u001B[1m> Finished chain.\u001B[0m\n",
      "\n",
      "\n",
      "\u001B[1m> Entering new LLMChain chain...\u001B[0m\n",
      "Prompt after formatting:\n",
      "\u001B[32;1m\u001B[1;3m你是《纽约时报》的戏剧评论家。根据该剧的剧情简介，你需要撰写一篇关于该剧的评论。\n",
      "\n",
      "剧情简介：\n",
      "\n",
      "\n",
      "在二十一世纪的新中国，人类面临着前所未有的挑战。随着科技的进步，人类发现了一个神秘的外星文明——三体人。这个文明拥有超强的科技实力，他们的存在让人类感到恐慌和无力。\n",
      "\n",
      "然而，一群勇敢的中国科学家和军人决定挑战命运，与三体人展开一场生死决战。在这场战斗中，他们不仅要面对三体人强大的科技，还要面对内心的挣扎和矛盾。他们必须找到战胜三体人的方法，否则人类将面临灭亡的威胁。\n",
      "\n",
      "在这场战斗中，勇气、智慧、坚持不懈的精神将被激发出来，人类将展现出惊人的力量。最终，他们能否战胜三体人，保卫地球，成为二十一世纪新中国的英雄？这将是一场跨越时空的壮丽战争，也是人类文明的终极挑战。三体人不是无法战胜的，只要人类不放弃希望，就能战胜一切困难。\n",
      "\n",
      "来自《纽约时报》戏剧评论家对上述剧目的评价：\u001B[0m\n",
      "\n",
      "\u001B[1m> Finished chain.\u001B[0m\n",
      "\n",
      "\u001B[1m> Finished chain.\u001B[0m\n"
     ]
    },
    {
     "data": {
      "text/plain": [
       "{'title': '三体人不是无法战胜的',\n",
       " 'era': '二十一世纪的新中国',\n",
       " 'synopsis': '\\n\\n在二十一世纪的新中国，人类面临着前所未有的挑战。随着科技的进步，人类发现了一个神秘的外星文明——三体人。这个文明拥有超强的科技实力，他们的存在让人类感到恐慌和无力。\\n\\n然而，一群勇敢的中国科学家和军人决定挑战命运，与三体人展开一场生死决战。在这场战斗中，他们不仅要面对三体人强大的科技，还要面对内心的挣扎和矛盾。他们必须找到战胜三体人的方法，否则人类将面临灭亡的威胁。\\n\\n在这场战斗中，勇气、智慧、坚持不懈的精神将被激发出来，人类将展现出惊人的力量。最终，他们能否战胜三体人，保卫地球，成为二十一世纪新中国的英雄？这将是一场跨越时空的壮丽战争，也是人类文明的终极挑战。三体人不是无法战胜的，只要人类不放弃希望，就能战胜一切困难。',\n",
       " 'review': '\\n\\n《三体》是一部令人叹为观止的戏剧作品。它不仅仅是一场关于科技与文明的较量，更是一场关于人性的探讨。\\n\\n剧中的主人公们，一群普通的中国科学家和军人，面对着前所未有的危机和挑战，他们的内心矛盾和挣扎令人动容。他们不仅要面对外来的威胁，还要面对自己内心的恐惧和不安。但他们并没有放弃，而是勇敢地挑战命运，寻找战胜三体人的方法。\\n\\n这部戏剧不仅仅是一场惊心动魄的科幻冒险，更是一次心灵的洗礼。它让我们看到了人类在面对困难时的勇气和坚持不懈的精神。它也让我们思考人类文明的未来，以及我们与其他文明的交流和合作。\\n\\n剧中的舞台设计和音效都非常出色，让观众仿佛置身于未来的世界。演员们的精彩表演更是让整部剧目生动而感人。\\n\\n总的来说，《三体》不仅是一部娱乐性强的戏剧作品，更是一部富有深意的作品。它让观众在欣赏的同时，也能思考人类的命运和文明的发展。我相信它将会成为一部经久不衰的经典作品，值得观众们反复品味。'}"
      ]
     },
     "execution_count": 15,
     "metadata": {},
     "output_type": "execute_result"
    }
   ],
   "source": [
    "m_overall_chain({\"title\":\"三体人不是无法战胜的\", \"era\": \"二十一世纪的新中国\"})"
   ]
  },
  {
   "cell_type": "code",
   "execution_count": null,
   "id": "8c20cf4e-25b4-453d-9f7a-84138ca25cf8",
   "metadata": {
    "pycharm": {
     "name": "#%%\n"
    }
   },
   "outputs": [],
   "source": []
  },
  {
   "cell_type": "code",
   "execution_count": null,
   "id": "5ef1db6e-3da4-4f9b-9707-0f30aa293dd7",
   "metadata": {
    "pycharm": {
     "name": "#%%\n"
    }
   },
   "outputs": [],
   "source": []
  },
  {
   "cell_type": "markdown",
   "id": "8b6836f0-213d-4cac-abc9-3617831be3db",
   "metadata": {
    "pycharm": {
     "name": "#%% md\n"
    }
   },
   "source": [
    "### Homework\n",
    "\n",
    "#### 使用 OutputParser 优化 overall_chain 输出格式，区分 synopsis_chain 和 review_chain 的结果"
   ]
  },
  {
   "cell_type": "code",
   "execution_count": null,
   "id": "1c7edb0a-675d-40c0-9f5d-d58f0170ce72",
   "metadata": {
    "pycharm": {
     "name": "#%%\n"
    }
   },
   "outputs": [],
   "source": []
  }
 ],
 "metadata": {
  "kernelspec": {
   "display_name": "Python 3 (ipykernel)",
   "language": "python",
   "name": "python3"
  },
  "language_info": {
   "codemirror_mode": {
    "name": "ipython",
    "version": 3
   },
   "file_extension": ".py",
   "mimetype": "text/x-python",
   "name": "python",
   "nbconvert_exporter": "python",
   "pygments_lexer": "ipython3",
   "version": "3.10.14"
  }
 },
 "nbformat": 4,
 "nbformat_minor": 5
}